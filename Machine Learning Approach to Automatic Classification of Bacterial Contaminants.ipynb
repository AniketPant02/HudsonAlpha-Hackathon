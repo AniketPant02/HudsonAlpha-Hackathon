{
 "cells": [
  {
   "cell_type": "markdown",
   "metadata": {},
   "source": [
    "### Machine Learning Approach to Automatic Classification of Bacterial Contaminants\n",
    "\n",
    ">Aniket Pant, Cole McKee, Matthias Rathbun, Viraj Kacker, Lonnie Webb\n",
    "\n",
    ">JCIB 2020"
   ]
  },
  {
   "cell_type": "markdown",
   "metadata": {},
   "source": [
    "Importing dependencies. Using pandas for data wrangling."
   ]
  },
  {
   "cell_type": "code",
   "execution_count": 47,
   "metadata": {
    "collapsed": true
   },
   "outputs": [],
   "source": [
    "#Importing Libraries\n",
    "import pandas as pd"
   ]
  },
  {
   "cell_type": "code",
   "execution_count": 48,
   "metadata": {
    "collapsed": true
   },
   "outputs": [],
   "source": [
    "#Importing Data\n",
    "dataTrain = pd.read_csv('SwabData.csv')"
   ]
  },
  {
   "cell_type": "code",
   "execution_count": 49,
   "metadata": {
    "scrolled": true
   },
   "outputs": [
    {
     "data": {
      "text/html": [
       "<div>\n",
       "<style>\n",
       "    .dataframe thead tr:only-child th {\n",
       "        text-align: right;\n",
       "    }\n",
       "\n",
       "    .dataframe thead th {\n",
       "        text-align: left;\n",
       "    }\n",
       "\n",
       "    .dataframe tbody tr th {\n",
       "        vertical-align: top;\n",
       "    }\n",
       "</style>\n",
       "<table border=\"1\" class=\"dataframe\">\n",
       "  <thead>\n",
       "    <tr style=\"text-align: right;\">\n",
       "      <th></th>\n",
       "      <th>Swab</th>\n",
       "      <th>Bacteria</th>\n",
       "      <th>E Score</th>\n",
       "    </tr>\n",
       "  </thead>\n",
       "  <tbody>\n",
       "    <tr>\n",
       "      <th>0</th>\n",
       "      <td>3.121300e+99</td>\n",
       "      <td>Haemophilus influenzae strain Hi375</td>\n",
       "      <td>5.000000e-33</td>\n",
       "    </tr>\n",
       "    <tr>\n",
       "      <th>1</th>\n",
       "      <td>4.312400e+99</td>\n",
       "      <td>Streptococcus oralis Uo5</td>\n",
       "      <td>6.000000e-37</td>\n",
       "    </tr>\n",
       "    <tr>\n",
       "      <th>2</th>\n",
       "      <td>3.442400e+99</td>\n",
       "      <td>Haemophilus parainfluenzae T3T1</td>\n",
       "      <td>3.000000e-25</td>\n",
       "    </tr>\n",
       "    <tr>\n",
       "      <th>3</th>\n",
       "      <td>3.442400e+99</td>\n",
       "      <td>Streptococcus pneumoniae MDRSPN001 DNA</td>\n",
       "      <td>3.000000e-35</td>\n",
       "    </tr>\n",
       "    <tr>\n",
       "      <th>4</th>\n",
       "      <td>1.411100e+99</td>\n",
       "      <td>Streptococcus mitis strain KCOM 1350 (= ChDC B...</td>\n",
       "      <td>6.000000e-42</td>\n",
       "    </tr>\n",
       "  </tbody>\n",
       "</table>\n",
       "</div>"
      ],
      "text/plain": [
       "           Swab                                           Bacteria  \\\n",
       "0  3.121300e+99                Haemophilus influenzae strain Hi375   \n",
       "1  4.312400e+99                           Streptococcus oralis Uo5   \n",
       "2  3.442400e+99                    Haemophilus parainfluenzae T3T1   \n",
       "3  3.442400e+99             Streptococcus pneumoniae MDRSPN001 DNA   \n",
       "4  1.411100e+99  Streptococcus mitis strain KCOM 1350 (= ChDC B...   \n",
       "\n",
       "        E Score  \n",
       "0  5.000000e-33  \n",
       "1  6.000000e-37  \n",
       "2  3.000000e-25  \n",
       "3  3.000000e-35  \n",
       "4  6.000000e-42  "
      ]
     },
     "execution_count": 49,
     "metadata": {},
     "output_type": "execute_result"
    }
   ],
   "source": [
    "#Understanding our Data\n",
    "dataTrain.head()"
   ]
  },
  {
   "cell_type": "code",
   "execution_count": 50,
   "metadata": {
    "collapsed": true
   },
   "outputs": [],
   "source": [
    "#Seeing if there are NaN values, dropping those rows, then re-initializing the index\n",
    "dataTrain.isnull().sum()\n",
    "dataTrain.dropna(inplace=True)\n",
    "dataTrain = dataTrain.reset_index(drop=True)"
   ]
  },
  {
   "cell_type": "code",
   "execution_count": 51,
   "metadata": {
    "collapsed": true
   },
   "outputs": [],
   "source": [
    "#Replacing all the bacterial data with numerical values\n",
    "dataTrain['Bacteria'].replace('Acinetobacter bereziniae pyrG gene',1.0,inplace=True)\n",
    "\n",
    "dataTrain['Bacteria'].replace('Actinomyces oris strain T14V',2.0,inplace=True)\n",
    "\n",
    "dataTrain['Bacteria'].replace('Gemella sp. oral taxon 928',3.0,inplace=True)\n",
    "\n",
    "dataTrain['Bacteria'].replace('Haemophilus influenzae biotype aegyptius plasmid pF3028',4.0,inplace=True)\n",
    "dataTrain['Bacteria'].replace('Haemophilus influenzae PittGG',4.1,inplace=True)\n",
    "\n",
    "dataTrain['Bacteria'].replace('Haemophilus influenzae strain Hi375',5.0,inplace=True)\n",
    "\n",
    "dataTrain['Bacteria'].replace('Haemophilus parainfluenzae',6.0,inplace=True)\n",
    "dataTrain['Bacteria'].replace('Haemophilus parainfluenzae T3T1',6.1,inplace=True)\n",
    "\n",
    "dataTrain['Bacteria'].replace('Haemophilus pittmaniae strain NCTC13334',7.0,inplace=True)\n",
    "\n",
    "dataTrain['Bacteria'].replace('Prevotella melaninogenica DNA',8.0,inplace=True)\n",
    "\n",
    "dataTrain['Bacteria'].replace('Rothia dentocariosa ATCC 17931',9.0,inplace=True)\n",
    "\n",
    "dataTrain['Bacteria'].replace('Staphylococcus pseudintermedius strain 063228',10.0,inplace=True)\n",
    "\n",
    "dataTrain['Bacteria'].replace('Streptococcus mitis B6',11.0,inplace=True)\n",
    "dataTrain['Bacteria'].replace('Streptococcus mitis strain KCOM 1350 (= ChDC B183)',11.1,inplace=True)\n",
    "dataTrain['Bacteria'].replace('Streptococcus mitis strain SVGS_061',11.1,inplace=True)\n",
    "\n",
    "dataTrain['Bacteria'].replace('Streptococcus oralis strain FDAARGOS_367 chromosome',12.0,inplace=True)\n",
    "dataTrain['Bacteria'].replace('Streptococcus oralis strain',12.1,inplace=True)\n",
    "dataTrain['Bacteria'].replace('Streptococcus oralis Uo5',12.2,inplace=True)\n",
    "\n",
    "dataTrain['Bacteria'].replace('Streptococcus pneumoniae',13.0,inplace=True)\n",
    "dataTrain['Bacteria'].replace('Streptococcus pneumoniae 70585',13.1,inplace=True)\n",
    "dataTrain['Bacteria'].replace('Streptococcus pneumoniae DNA',13.2,inplace=True)\n",
    "dataTrain['Bacteria'].replace('Streptococcus pneumoniae MDRSPN001',13.3,inplace=True)\n",
    "dataTrain['Bacteria'].replace('Streptococcus pneumoniae MDRSPN001 DNA',13.4,inplace=True)\n",
    "dataTrain['Bacteria'].replace('Streptococcus pneumoniae strain 203/40',13.5,inplace=True)\n",
    "dataTrain['Bacteria'].replace('Streptococcus pneumoniae strain NT_110_58',13.6,inplace=True)\n",
    "dataTrain['Bacteria'].replace('Streptococcus pneumoniae strain: KK0381',13.7,inplace=True)\n",
    "\n",
    "dataTrain['Bacteria'].replace('Streptococcus pseudopneumoniae IS7493',14.0,inplace=True)\n",
    "\n",
    "dataTrain['Bacteria'].replace('Streptococcus sp. oral taxon 431',15.0,inplace=True)\n",
    "dataTrain['Bacteria'].replace('Streptococcus sp. VT 162',15.0,inplace=True)\n",
    "\n",
    "dataTrain['Bacteria'].replace('Streptococcus thermophilus strain KLDS 3.1003',16.0,inplace=True)\n"
   ]
  },
  {
   "cell_type": "markdown",
   "metadata": {},
   "source": [
    "Importing Scikit Learn dependencies."
   ]
  },
  {
   "cell_type": "code",
   "execution_count": 52,
   "metadata": {
    "scrolled": true
   },
   "outputs": [],
   "source": [
    "#Importing the Machine Learning Libraries\n",
    "from sklearn.neighbors import KNeighborsClassifier\n",
    "from sklearn.cross_validation import train_test_split\n",
    "from sklearn import metrics"
   ]
  },
  {
   "cell_type": "code",
   "execution_count": 53,
   "metadata": {
    "collapsed": true,
    "scrolled": true
   },
   "outputs": [],
   "source": [
    "dataTrain.dropna(inplace=True)"
   ]
  },
  {
   "cell_type": "markdown",
   "metadata": {},
   "source": [
    "Defining KNN model."
   ]
  },
  {
   "cell_type": "code",
   "execution_count": 54,
   "metadata": {
    "scrolled": false
   },
   "outputs": [
    {
     "name": "stderr",
     "output_type": "stream",
     "text": [
      "C:\\Users\\Aniket Pant\\Anaconda3\\lib\\site-packages\\ipykernel_launcher.py:12: FutureWarning: convert_objects is deprecated.  Use the data-type specific converters pd.to_datetime, pd.to_timedelta and pd.to_numeric.\n",
      "  if sys.path[0] == '':\n"
     ]
    },
    {
     "data": {
      "text/plain": [
       "KNeighborsClassifier(algorithm='auto', leaf_size=30, metric='minkowski',\n",
       "           metric_params=None, n_jobs=1, n_neighbors=14, p=2,\n",
       "           weights='uniform')"
      ]
     },
     "execution_count": 54,
     "metadata": {},
     "output_type": "execute_result"
    }
   ],
   "source": [
    "#KNN model - Machine Learning\n",
    "\n",
    "from sklearn.neighbors import KNeighborsClassifier\n",
    "from sklearn.cross_validation import train_test_split\n",
    "from sklearn import metrics\n",
    "\n",
    "#Initializing my training features\n",
    "feature_cols = ['Swab']\n",
    "X = dataTrain[feature_cols]\n",
    "y = list(dataTrain['Bacteria'])\n",
    "\n",
    "dataTrain['Bacteria'] = dataTrain['Bacteria'].convert_objects(convert_numeric=True)\n",
    "\n",
    "knn = KNeighborsClassifier(n_neighbors=14)\n",
    "knn.fit(X,y)"
   ]
  },
  {
   "cell_type": "markdown",
   "metadata": {},
   "source": [
    "##### User Input\n",
    "Here, users may input their 100 basepair sequences to be tested upon."
   ]
  },
  {
   "cell_type": "code",
   "execution_count": 55,
   "metadata": {},
   "outputs": [
    {
     "data": {
      "text/plain": [
       "array(['11.1'],\n",
       "      dtype='<U44')"
      ]
     },
     "execution_count": 55,
     "metadata": {},
     "output_type": "execute_result"
    }
   ],
   "source": [
    "x_pred = \"CGAATGTAGATCCTAGCCTTCTTTCAGGTATCATGTTGAACCCAATGCAACAATCCGAGCCATCTAAGATTGCCCTCTTCTCTGCAGCTCAATATGCATG\" # Enter Genome here\n",
    "x_int = []\n",
    "for char in x_pred:\n",
    "    if char == \"A\":\n",
    "        x_int.append(1)\n",
    "    if char == \"G\":\n",
    "        x_int.append(2)\n",
    "    if char == \"C\":\n",
    "        x_int.append(3)\n",
    "    if char == \"T\":\n",
    "        x_int.append(4)\n",
    "x_prediction = str(x_int)\n",
    "str1 = ''.join(str(e) for e in x_int)\n",
    "knn.predict(str1)"
   ]
  }
 ],
 "metadata": {
  "kernelspec": {
   "display_name": "Python 3",
   "language": "python",
   "name": "python3"
  },
  "language_info": {
   "codemirror_mode": {
    "name": "ipython",
    "version": 3
   },
   "file_extension": ".py",
   "mimetype": "text/x-python",
   "name": "python",
   "nbconvert_exporter": "python",
   "pygments_lexer": "ipython3",
   "version": "3.6.1"
  }
 },
 "nbformat": 4,
 "nbformat_minor": 2
}
